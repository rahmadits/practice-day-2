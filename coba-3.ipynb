{
 "cells": [
  {
   "cell_type": "code",
   "execution_count": 1,
   "metadata": {},
   "outputs": [
    {
     "name": "stdout",
     "output_type": "stream",
     "text": [
      "Usia Anda mencukupi, kami segera akan mengirimkan email.\n"
     ]
    }
   ],
   "source": [
    "# Contoh if conditional statements\n",
    "age = 20\n",
    "\n",
    "if age >= 17:\n",
    "    print(f'Usia Anda mencukupi, kami segera akan mengirimkan email.')"
   ]
  },
  {
   "cell_type": "code",
   "execution_count": 3,
   "metadata": {},
   "outputs": [
    {
     "name": "stdout",
     "output_type": "stream",
     "text": [
      "Usia nabil mencukupi, kami segera akan mengirimkan email.\n"
     ]
    }
   ],
   "source": [
    "# Contoh else conditional statements\n",
    "name = \"nabil\"\n",
    "age = 20\n",
    "\n",
    "if age >= 17:\n",
    "    print(f'Usia {name} mencukupi, kami segera akan mengirimkan email.')\n",
    "else:\n",
    "    print(f'Usia {name} belum mencukupi')"
   ]
  },
  {
   "cell_type": "code",
   "execution_count": 5,
   "metadata": {},
   "outputs": [
    {
     "name": "stdout",
     "output_type": "stream",
     "text": [
      "Kategori nilai Anda adalah B\n"
     ]
    }
   ],
   "source": [
    "# Contoh elif conditional statements\n",
    "score = 82\n",
    "\n",
    "if 90 <= score <= 100:\n",
    "   grade = 'A'\n",
    "elif 80 <= score <= 89:\n",
    "   grade = 'B'\n",
    "elif 70 <= score <= 79:\n",
    "   grade = 'C'\n",
    "elif 60 <= score <= 69:\n",
    "   grade = 'D'  \n",
    "else:\n",
    "   grade = 'E'\n",
    "\n",
    "print(f'Kategori nilai Anda adalah {grade}')"
   ]
  },
  {
   "cell_type": "code",
   "execution_count": 5,
   "metadata": {},
   "outputs": [
    {
     "name": "stdout",
     "output_type": "stream",
     "text": [
      "Hello, world.\n"
     ]
    }
   ],
   "source": [
    "# Contoh if conditional statement\n",
    "value = 3\n",
    "\n",
    "if value < 5:\n",
    "    print('Hello, world.')\n",
    "    value = value + 1\n",
    "else:\n",
    "    print('Finish')\n",
    "\n",
    "# output hanya sekali karena statement if, tidak looping."
   ]
  },
  {
   "cell_type": "code",
   "execution_count": 7,
   "metadata": {},
   "outputs": [
    {
     "name": "stdout",
     "output_type": "stream",
     "text": [
      "Hello, world.\n",
      "Hello, world.\n",
      "Hello, world.\n",
      "Finish\n"
     ]
    }
   ],
   "source": [
    "# Contoh while loop statement\n",
    "value = 2\n",
    "\n",
    "while value < 5:\n",
    "    print('Hello, world.')\n",
    "    value = value + 1\n",
    "else:\n",
    "    print('Finish')\n",
    "\n",
    "# diulang terus sampai nilainya tidak memenuhi pernyataan awal, while < 5."
   ]
  },
  {
   "cell_type": "code",
   "execution_count": 11,
   "metadata": {},
   "outputs": [
    {
     "name": "stdout",
     "output_type": "stream",
     "text": [
      "Nabil Three Times: 0\n",
      "Nabil Three Times: 1\n",
      "Nabil Three Times: 2\n"
     ]
    }
   ],
   "source": [
    "# Contoh for loop statements\n",
    "for i in range(3):\n",
    "    print(f'Nabil Three Times: {i}')\n",
    "\n",
    "# i = variabel (bebas apa aja). urutan untuk range (start, stop, step). kalau ga ditulis start, akan dimulai dari nol."
   ]
  },
  {
   "cell_type": "code",
   "execution_count": 19,
   "metadata": {},
   "outputs": [
    {
     "name": "stdout",
     "output_type": "stream",
     "text": [
      "Nomor 0\n",
      "Nomor 1\n",
      "Nomor 2\n"
     ]
    }
   ],
   "source": [
    "# Contoh penerapan break statement pada for loop\n",
    "for i in range(5):\n",
    "   if i >= 3:\n",
    "       break\n",
    "   print(f'Nomor {i}')\n",
    "\n",
    "# berhenti saat kondisi i terpenuhi, yaitu urutan ke-3."
   ]
  },
  {
   "cell_type": "code",
   "execution_count": 1,
   "metadata": {},
   "outputs": [
    {
     "name": "stdout",
     "output_type": "stream",
     "text": [
      "Tuliskan nama Anda: \n",
      "Tuliskan nama Anda: \n",
      "Tuliskan nama Anda: \n",
      "Tuliskan nama Anda: \n",
      "Halo Nabil!\n"
     ]
    }
   ],
   "source": [
    "# Contoh penerapan break statement pada while loop\n",
    "while True:\n",
    "   print('Tuliskan nama Anda: ')\n",
    "   name = input('')\n",
    "   if name.upper() == 'NABIL':\n",
    "       print('Halo Nabil!')\n",
    "       break\n",
    "   \n",
    "# akan terus looping karena kondisinya true, harus break agar berhenti. pada contoh ini, jika diiinput nama bukan nabil, bakal looping terus diminta input, akan berhenti saat input nama nabil."
   ]
  },
  {
   "cell_type": "code",
   "execution_count": 17,
   "metadata": {},
   "outputs": [
    {
     "name": "stdout",
     "output_type": "stream",
     "text": [
      " * * * * * \n"
     ]
    }
   ],
   "source": [
    "stars = ' '\n",
    "for i in range(5):\n",
    "    stars +='* '\n",
    "\n",
    "print(stars)"
   ]
  },
  {
   "cell_type": "code",
   "execution_count": 16,
   "metadata": {},
   "outputs": [
    {
     "name": "stdout",
     "output_type": "stream",
     "text": [
      " * * * * * \n",
      "* * * * * \n",
      "* * * * * \n",
      "* * * * * \n",
      "* * * * * \n",
      "\n"
     ]
    }
   ],
   "source": [
    "stars = ' '\n",
    "size = 5\n",
    "for i in range(size) :\n",
    "    for j in range(size) :\n",
    "        stars +='* '\n",
    "    stars +='\\n'\n",
    "\n",
    "print(stars)\n",
    "\n",
    "# i untuk baris, j untuk kolom.\n",
    "# size untuk menampilkan kebwahnya ada 5 baris."
   ]
  },
  {
   "cell_type": "code",
   "execution_count": 72,
   "metadata": {},
   "outputs": [
    {
     "name": "stdout",
     "output_type": "stream",
     "text": [
      "angka 0 termasuk bilangan GENAP\n"
     ]
    }
   ],
   "source": [
    "# Q1.\n",
    "\n",
    "angka = int(input('masukkan angka: '))\n",
    "\n",
    "if angka % 2 == 0:\n",
    "    print(f'angka {angka} termasuk bilangan GENAP')\n",
    "else:\n",
    "    print(f'angka {angka} termasuk bilangan GANJIL')"
   ]
  },
  {
   "cell_type": "code",
   "execution_count": null,
   "metadata": {},
   "outputs": [],
   "source": [
    "#Q2.\n",
    "\n"
   ]
  },
  {
   "cell_type": "code",
   "execution_count": 65,
   "metadata": {},
   "outputs": [
    {
     "name": "stdout",
     "output_type": "stream",
     "text": [
      "\n",
      "\n",
      "2\n",
      "* * * * * \n",
      "* * * * \n",
      "* * * \n",
      "* * \n",
      "* \n",
      "\n"
     ]
    }
   ],
   "source": [
    "#Q3 Bentuk 1.\n",
    "\n",
    "print('\\n\\n2')\n",
    "a = 6\n",
    "for i in range(0, a):\n",
    "    for j in range(0, a - 1):\n",
    "        print('* ' , end='')\n",
    "    a -= 1\n",
    "    print('')"
   ]
  },
  {
   "cell_type": "code",
   "execution_count": null,
   "metadata": {},
   "outputs": [],
   "source": []
  }
 ],
 "metadata": {
  "kernelspec": {
   "display_name": "Python 3",
   "language": "python",
   "name": "python3"
  },
  "language_info": {
   "codemirror_mode": {
    "name": "ipython",
    "version": 3
   },
   "file_extension": ".py",
   "mimetype": "text/x-python",
   "name": "python",
   "nbconvert_exporter": "python",
   "pygments_lexer": "ipython3",
   "version": "3.11.4"
  },
  "orig_nbformat": 4
 },
 "nbformat": 4,
 "nbformat_minor": 2
}
