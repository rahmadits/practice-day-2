{
 "cells": [
  {
   "cell_type": "code",
   "execution_count": 1,
   "metadata": {},
   "outputs": [
    {
     "name": "stdout",
     "output_type": "stream",
     "text": [
      "Hello world!\n",
      "Hello there.\n",
      "I'm Baron\n",
      "Hello world!\n",
      "Hello there.\n",
      "I'm Baron\n",
      "Hello world!\n",
      "Hello there.\n",
      "I'm Baron\n"
     ]
    }
   ],
   "source": [
    "print('Hello world!')\n",
    "print('Hello there.')\n",
    "print('I\\'m Baron')\n",
    "print('Hello world!')\n",
    "print('Hello there.')\n",
    "print('I\\'m Baron')\n",
    "print('Hello world!')\n",
    "print('Hello there.')\n",
    "print('I\\'m Baron')\n",
    "\n",
    "# contoh tanpa fungsi. harus dicopas sampai tiga kali."
   ]
  },
  {
   "cell_type": "code",
   "execution_count": 4,
   "metadata": {},
   "outputs": [
    {
     "name": "stdout",
     "output_type": "stream",
     "text": [
      "Hello world!\n",
      "Hello there.\n",
      "I'm Baron\n",
      "Hello world!\n",
      "Hello there.\n",
      "I'm Baron\n",
      "Hello world!\n",
      "Hello there.\n",
      "I'm Baron\n"
     ]
    }
   ],
   "source": [
    "def hello():\n",
    "    print('Hello world!')\n",
    "    print('Hello there.')\n",
    "    print('I\\'m Baron')\n",
    "\n",
    "hello()\n",
    "hello()\n",
    "hello()\n",
    "\n",
    "# tidak perlu copas banyak, cukup panggil hello() tiga kali."
   ]
  },
  {
   "cell_type": "code",
   "execution_count": 16,
   "metadata": {},
   "outputs": [
    {
     "name": "stdout",
     "output_type": "stream",
     "text": [
      "Hello, Alice\n"
     ]
    }
   ],
   "source": [
    "def hello(nama):\n",
    "    x = print(f'Hello, {nama}')\n",
    "    return x\n",
    "\n",
    "hello('Alice')"
   ]
  },
  {
   "cell_type": "code",
   "execution_count": 3,
   "metadata": {},
   "outputs": [
    {
     "name": "stdout",
     "output_type": "stream",
     "text": [
      "Hasilnya adalah Genap dan Ganjil\n"
     ]
    }
   ],
   "source": [
    "# Contoh penerapan return statement\n",
    "def check(x):\n",
    "    c = x % 2\n",
    "    if c != 0:\n",
    "        return 'Ganjil'\n",
    "    else:\n",
    "        return 'Genap'\n",
    "\n",
    "angka1 = check(14)\n",
    "angka2 = check(5)\n",
    "print(f'Hasilnya adalah {angka1} dan {angka2}')\n",
    "\n",
    "# menggunakan dua return karena pakai fungsi if-else."
   ]
  },
  {
   "cell_type": "code",
   "execution_count": 7,
   "metadata": {},
   "outputs": [
    {
     "name": "stdout",
     "output_type": "stream",
     "text": [
      "halo, selamat datang\n",
      "selamat pagi\n"
     ]
    }
   ],
   "source": [
    "def salam():\n",
    "    print(f'halo, selamat datang')\n",
    "    print(f'selamat pagi')\n",
    "\n",
    "salam()"
   ]
  },
  {
   "cell_type": "code",
   "execution_count": 10,
   "metadata": {},
   "outputs": [
    {
     "ename": "NameError",
     "evalue": "name 'eggs' is not defined",
     "output_type": "error",
     "traceback": [
      "\u001b[1;31m---------------------------------------------------------------------------\u001b[0m",
      "\u001b[1;31mNameError\u001b[0m                                 Traceback (most recent call last)",
      "Cell \u001b[1;32mIn[10], line 6\u001b[0m\n\u001b[0;32m      3\u001b[0m     eggs \u001b[39m=\u001b[39m \u001b[39m31337\u001b[39m\n\u001b[0;32m      5\u001b[0m rafaela()\n\u001b[1;32m----> 6\u001b[0m \u001b[39mprint\u001b[39m(eggs)\n\u001b[0;32m      8\u001b[0m \u001b[39m# karena print variabel global dan egg vvariabel lokal.\u001b[39;00m\n",
      "\u001b[1;31mNameError\u001b[0m: name 'eggs' is not defined"
     ]
    }
   ],
   "source": [
    "# Klausul pertama\n",
    "def rafaela():\n",
    "    eggs = 31337\n",
    "\n",
    "rafaela()\n",
    "print(eggs)\n",
    "\n",
    "# karena print variabel global dan egg vvariabel lokal."
   ]
  },
  {
   "cell_type": "code",
   "execution_count": 2,
   "metadata": {},
   "outputs": [
    {
     "name": "stdout",
     "output_type": "stream",
     "text": [
      "5\n",
      "6\n"
     ]
    }
   ],
   "source": [
    "def coba():\n",
    "    x = 3\n",
    "    print(x + 2)\n",
    "    return (x + 3)\n",
    "\n",
    "x = 5\n",
    "print (coba())"
   ]
  },
  {
   "cell_type": "code",
   "execution_count": 3,
   "metadata": {},
   "outputs": [
    {
     "ename": "UnboundLocalError",
     "evalue": "cannot access local variable 'eggs' where it is not associated with a value",
     "output_type": "error",
     "traceback": [
      "\u001b[1;31m---------------------------------------------------------------------------\u001b[0m",
      "\u001b[1;31mUnboundLocalError\u001b[0m                         Traceback (most recent call last)",
      "Cell \u001b[1;32mIn[3], line 8\u001b[0m\n\u001b[0;32m      5\u001b[0m     \u001b[39mprint\u001b[39m(eggs)\n\u001b[0;32m      6\u001b[0m     eggs \u001b[39m=\u001b[39m \u001b[39m'\u001b[39m\u001b[39mspam local\u001b[39m\u001b[39m'\u001b[39m\n\u001b[1;32m----> 8\u001b[0m spam()\n",
      "Cell \u001b[1;32mIn[3], line 5\u001b[0m, in \u001b[0;36mspam\u001b[1;34m()\u001b[0m\n\u001b[0;32m      4\u001b[0m \u001b[39mdef\u001b[39;00m \u001b[39mspam\u001b[39m():\n\u001b[1;32m----> 5\u001b[0m     \u001b[39mprint\u001b[39m(eggs)\n\u001b[0;32m      6\u001b[0m     eggs \u001b[39m=\u001b[39m \u001b[39m'\u001b[39m\u001b[39mspam local\u001b[39m\u001b[39m'\u001b[39m\n",
      "\u001b[1;31mUnboundLocalError\u001b[0m: cannot access local variable 'eggs' where it is not associated with a value"
     ]
    }
   ],
   "source": [
    "# Contoh perbedaan tanpa global statement\n",
    "eggs = 'global'\n",
    "\n",
    "def spam():\n",
    "    print(eggs)\n",
    "    eggs = 'spam local'\n",
    "\n",
    "spam()"
   ]
  },
  {
   "cell_type": "code",
   "execution_count": 4,
   "metadata": {},
   "outputs": [
    {
     "name": "stdout",
     "output_type": "stream",
     "text": [
      "Hello, Alice\n",
      "How are you?\n"
     ]
    }
   ],
   "source": [
    "# Contoh penerapan callback function\n",
    "def spam(fn, name):\n",
    "    return fn(name)\n",
    "\n",
    "def hello(name):\n",
    "    print(f'Hello, {name}')\n",
    "    if name == 'Alice':\n",
    "        print('How are you?')\n",
    "    else:\n",
    "        print('Who are you?')\n",
    "\n",
    "spam(fn=hello, name='Alice')\n",
    "\n",
    "# fn sebagai return,bebas pakai nama apa aja, itu untuk menyimpan"
   ]
  },
  {
   "cell_type": "code",
   "execution_count": 2,
   "metadata": {},
   "outputs": [
    {
     "name": "stdout",
     "output_type": "stream",
     "text": [
      "10\n",
      "-4\n"
     ]
    }
   ],
   "source": [
    "# contoh lain call back.\n",
    "\n",
    "def tambah(num1, num2):\n",
    "    return num1 + num2\n",
    "def kurang(num1, num2):\n",
    "    return num1 - num2\n",
    "def hitung(operator, num1,num2):\n",
    "    hasil = operator(num1,num2)\n",
    "    return hasil\n",
    "\n",
    "print(hitung(tambah, 3,7))\n",
    "print(hitung(kurang, 3,7))"
   ]
  },
  {
   "cell_type": "code",
   "execution_count": 1,
   "metadata": {},
   "outputs": [
    {
     "name": "stdout",
     "output_type": "stream",
     "text": [
      "5 4 3 2 1 0 "
     ]
    }
   ],
   "source": [
    "# Contoh penerapan recursive function\n",
    "def countdown(counter):\n",
    "    print(counter, end=' ') # end petik ini gunanya biar hasil ditampilin menyamping, kalau ga ada bakalan ke bawah.\n",
    "    counter -= 1\n",
    "\n",
    "    if(counter >= 0):\n",
    "       countdown(counter)\n",
    "\n",
    "countdown(5)"
   ]
  },
  {
   "cell_type": "code",
   "execution_count": 2,
   "metadata": {},
   "outputs": [
    {
     "data": {
      "text/plain": [
       "6"
      ]
     },
     "execution_count": 2,
     "metadata": {},
     "output_type": "execute_result"
    }
   ],
   "source": [
    "# Contoh penggunaan lambda function\n",
    "\n",
    "spam = lambda x, y: x * y\n",
    "spam(2, 3)"
   ]
  },
  {
   "cell_type": "code",
   "execution_count": 1,
   "metadata": {},
   "outputs": [
    {
     "name": "stdout",
     "output_type": "stream",
     "text": [
      "Sebelum: [1, 2, 3, 4, 5], dan sesudah: [5, 10, 15, 20, 25]\n"
     ]
    }
   ],
   "source": [
    "# Contoh penggunaan map(). map fungsi default python.\n",
    "l1 = [1, 2, 3, 4, 5]\n",
    "\n",
    "f1 = lambda angka1: angka1 * 5\n",
    "l2 = list(map(f1, l1))\n",
    "print(f'Sebelum: {l1}, dan sesudah: {l2}')"
   ]
  },
  {
   "cell_type": "code",
   "execution_count": 3,
   "metadata": {},
   "outputs": [
    {
     "name": "stdout",
     "output_type": "stream",
     "text": [
      "Sebelum: [1, 2, 3, 4, 5], dan sesudah: [2, 4]\n"
     ]
    }
   ],
   "source": [
    "# Contoh penggunaan filter(). filter juga fungsi deault python.\n",
    "l1 = [1, 2, 3, 4, 5]\n",
    "\n",
    "f1 = lambda angka1: angka1 % 2 == 0\n",
    "l2 = list(filter(f1, l1))\n",
    "print(f'Sebelum: {l1}, dan sesudah: {l2}')"
   ]
  },
  {
   "cell_type": "code",
   "execution_count": 2,
   "metadata": {},
   "outputs": [
    {
     "name": "stdout",
     "output_type": "stream",
     "text": [
      "hasilnya: [9800000.0, 9500000.0]\n"
     ]
    }
   ],
   "source": [
    "#Q2.\n",
    "\n",
    "a = [91e5, 98e5, 95e5, 103e4, 93e5]\n",
    "\n",
    "f1 = lambda x: x - x * 0.05 > 90e5\n",
    "b = list(filter(f1, a))\n",
    "print(f'hasilnya: {b}')"
   ]
  }
 ],
 "metadata": {
  "kernelspec": {
   "display_name": "Python 3",
   "language": "python",
   "name": "python3"
  },
  "language_info": {
   "codemirror_mode": {
    "name": "ipython",
    "version": 3
   },
   "file_extension": ".py",
   "mimetype": "text/x-python",
   "name": "python",
   "nbconvert_exporter": "python",
   "pygments_lexer": "ipython3",
   "version": "3.11.4"
  },
  "orig_nbformat": 4
 },
 "nbformat": 4,
 "nbformat_minor": 2
}
