{
 "cells": [
  {
   "cell_type": "code",
   "execution_count": 28,
   "metadata": {},
   "outputs": [
    {
     "name": "stdout",
     "output_type": "stream",
     "text": [
      "The factorial of the number is: \n",
      "720\n"
     ]
    }
   ],
   "source": [
    "#Q1.\n",
    "\n",
    "import math\n",
    "\n",
    "n = int (input(\"Enter the number whose factorial you want to find: \"))\n",
    "\n",
    "print (\"The factorial of the number is: \")\n",
    "\n",
    "print (math.factorial (n))"
   ]
  },
  {
   "cell_type": "code",
   "execution_count": 27,
   "metadata": {},
   "outputs": [
    {
     "name": "stdout",
     "output_type": "stream",
     "text": [
      "The factorial of 5 is 120\n"
     ]
    }
   ],
   "source": [
    "# another Q1.\n",
    "\n",
    "num = int(input(\"Enter a number: \"))    \n",
    "factorial = 1    \n",
    "if num < 0:    \n",
    "   print(\"Factorial does not exist for negative numbers\")    \n",
    "elif num == 0:    \n",
    "   print(\"The factorial of 0 is 1\")    \n",
    "else:    \n",
    "   for i in range(1,num + 1):    \n",
    "       factorial = factorial*i    \n",
    "   print(\"The factorial of\",num,\"is\",factorial)"
   ]
  },
  {
   "cell_type": "code",
   "execution_count": 20,
   "metadata": {},
   "outputs": [
    {
     "name": "stdout",
     "output_type": "stream",
     "text": [
      "1:00:42\n"
     ]
    }
   ],
   "source": [
    "# Q2.\n",
    "\n",
    "seconds = 90042\n",
    "\n",
    "seconds = seconds % (24 * 3600)\n",
    "hour = seconds // 3600\n",
    "seconds %= 3600\n",
    "minutes = seconds // 60\n",
    "seconds %= 60\n",
    "\n",
    "print(\"%d:%02d:%02d\" % (hour, minutes, seconds))"
   ]
  },
  {
   "cell_type": "code",
   "execution_count": 23,
   "metadata": {},
   "outputs": [
    {
     "name": "stdout",
     "output_type": "stream",
     "text": [
      "1:00:42\n"
     ]
    }
   ],
   "source": [
    "# another Q2.\n",
    "\n",
    "def convert(seconds):\n",
    "    seconds = seconds % (24 * 3600)\n",
    "    hour = seconds // 3600\n",
    "    seconds %= 3600\n",
    "    minutes = seconds // 60\n",
    "    seconds %= 60\n",
    "     \n",
    "    return \"%d:%02d:%02d\" % (hour, minutes, seconds)\n",
    "     \n",
    "# Driver program\n",
    "n = 90042\n",
    "print(convert(n))"
   ]
  },
  {
   "cell_type": "code",
   "execution_count": 2,
   "metadata": {},
   "outputs": [],
   "source": [
    "# Q3.\n",
    "\n",
    "def area(length, width):\n",
    "    # Return the product of the length and width:\n",
    "    return length * width\n",
    "\n",
    "def perimeter(length, width):\n",
    "    # Return the sum of the length twice and the width twice:\n",
    "    return length * 2 + width * 2\n",
    "\n",
    "def volume(length, width, height):\n",
    "    # Return the product of the length, width, and height:\n",
    "    return length * width * height\n",
    "\n",
    "def surfaceArea(length, width, height):\n",
    "    # Return the sum of the area of each of the six sides:\n",
    "    return ((length * width) + (length * height) + (width * height)) * 2"
   ]
  },
  {
   "cell_type": "code",
   "execution_count": 4,
   "metadata": {},
   "outputs": [],
   "source": [
    "#Q4\n",
    "\n",
    "def getChessSquareColor(column, row):\n",
    "    # If the column and row is out of bounds, return a blank string:\n",
    "    if column < 1 or column > 8 or row < 1 or row > 8:\n",
    "        return ''\n",
    "\n",
    "    # If the even/oddness of the column and row match, return 'white':\n",
    "    if column % 2 == row % 2:\n",
    "        return 'white'\n",
    "    # If they don't match, then return 'black':\n",
    "    else:\n",
    "        return 'black'\n",
    "\n",
    "assert getChessSquareColor(1, 1) == 'white'\n",
    "assert getChessSquareColor(2, 1) == 'black'\n",
    "assert getChessSquareColor(1, 2) == 'black'\n",
    "assert getChessSquareColor(8, 8) == 'white'\n",
    "assert getChessSquareColor(0, 8) == ''\n",
    "assert getChessSquareColor(2, 9) == ''"
   ]
  },
  {
   "cell_type": "code",
   "execution_count": 31,
   "metadata": {},
   "outputs": [
    {
     "name": "stdout",
     "output_type": "stream",
     "text": [
      "2024 is a leap Year\n"
     ]
    }
   ],
   "source": [
    "# Q6.\n",
    "\n",
    "# Default function to implement conditions to check leap year  \n",
    "def CheckLeap(Year):  \n",
    "  # Checking if the given year is leap year  \n",
    "  if((Year % 400 == 0) or  \n",
    "     (Year % 100 != 0) and  \n",
    "     (Year % 4 == 0)):   \n",
    "    print(f\"{Year} is a leap Year\");  \n",
    "  # Else it is not a leap year  \n",
    "  else:  \n",
    "    print (f\"{Year} is not a leap Year\")  \n",
    "# Taking an input year from user  \n",
    "Year = int(input(\"Enter the number: \"))  \n",
    "# Printing result  \n",
    "CheckLeap(Year)"
   ]
  },
  {
   "cell_type": "code",
   "execution_count": 8,
   "metadata": {},
   "outputs": [],
   "source": [
    "#Q7\n",
    "\n",
    "def isValidDate(year, month, day):\n",
    "    # If month is outside the bounds of 1 to 12, return False:\n",
    "    if not (1 <= month <= 12):\n",
    "        return False\n",
    "    # After this point, you can assume the month is valid.\n",
    "\n",
    "    # If the year is a leap year and the date is Feb 29th, it is valid:\n",
    "    if leapyear.isLeapYear(year) and month == 2 and day == 29:\n",
    "        return True\n",
    "    # After this point, you can assume the year is not a leap year.\n",
    "\n",
    "    # Check for invalid dates in 31-day months:\n",
    "    if month in (1, 3, 5, 7, 8, 10, 12) and not (1 <= day <= 31):\n",
    "        return False\n",
    "    # Check for invalid dates in 30-day months:\n",
    "    elif month in (4, 6, 9, 11) and not (1 <= day <= 30):\n",
    "        return False\n",
    "    # Check for invalid dates in February:\n",
    "    elif month == 2 and not (1 <= day <= 28):\n",
    "        return False"
   ]
  },
  {
   "cell_type": "code",
   "execution_count": 18,
   "metadata": {},
   "outputs": [
    {
     "name": "stdout",
     "output_type": "stream",
     "text": [
      "1,000.123456\n"
     ]
    }
   ],
   "source": [
    "# Q8.\n",
    "\n",
    "res = '{:,}'.format(1000.123456)\n",
    "print(res)"
   ]
  }
 ],
 "metadata": {
  "kernelspec": {
   "display_name": "Python 3",
   "language": "python",
   "name": "python3"
  },
  "language_info": {
   "codemirror_mode": {
    "name": "ipython",
    "version": 3
   },
   "file_extension": ".py",
   "mimetype": "text/x-python",
   "name": "python",
   "nbconvert_exporter": "python",
   "pygments_lexer": "ipython3",
   "version": "3.11.4"
  },
  "orig_nbformat": 4
 },
 "nbformat": 4,
 "nbformat_minor": 2
}
