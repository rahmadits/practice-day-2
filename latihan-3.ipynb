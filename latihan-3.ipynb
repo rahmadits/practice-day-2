{
 "cells": [
  {
   "cell_type": "code",
   "execution_count": 1,
   "metadata": {},
   "outputs": [
    {
     "name": "stdout",
     "output_type": "stream",
     "text": [
      "3\n"
     ]
    }
   ],
   "source": [
    "# Q1\n",
    "# input: \n",
    "spam = 'ababaababbbbcccbabcc'\n",
    "count_word = spam.count('bab')\n",
    "\n",
    "print(count_word)"
   ]
  },
  {
   "cell_type": "code",
   "execution_count": 8,
   "metadata": {},
   "outputs": [
    {
     "name": "stdout",
     "output_type": "stream",
     "text": [
      "false\n",
      "1\n",
      "2\n"
     ]
    }
   ],
   "source": [
    "# Q2.\n",
    "# input:\n",
    "spam = 'oOxxX'\n",
    "count_o = spam.count('o')\n",
    "count_x = spam.count('x')\n",
    "\n",
    "if spam == 'ooxxx':\n",
    "    print('true')\n",
    "\n",
    "else:\n",
    "    print('false')\n",
    "\n",
    "print(count_o)\n",
    "print(count_x)"
   ]
  },
  {
   "cell_type": "code",
   "execution_count": 12,
   "metadata": {},
   "outputs": [
    {
     "name": "stdout",
     "output_type": "stream",
     "text": [
      "Yes\n"
     ]
    }
   ],
   "source": [
    "#Q3\n",
    "\n",
    "n=input()\n",
    "m=int(n)\n",
    "s=0\n",
    "q=m\n",
    "while(m!=0):\n",
    "    p=m%10\n",
    "    s+=p**(len(n))\n",
    "    m=m//10\n",
    "if(s==q):\n",
    "    print('Yes')\n",
    "else:\n",
    "    print('No')"
   ]
  },
  {
   "cell_type": "code",
   "execution_count": 22,
   "metadata": {},
   "outputs": [
    {
     "name": "stdout",
     "output_type": "stream",
     "text": [
      "1\n",
      "2\n",
      "Fizz\n",
      "4\n",
      "Buzz\n",
      "Fizz\n",
      "7\n",
      "8\n",
      "Fizz\n",
      "Buzz\n",
      "11\n",
      "Fizz\n",
      "13\n",
      "14\n",
      "FizzBuzz\n",
      "16\n",
      "17\n",
      "Fizz\n",
      "19\n",
      "Buzz\n",
      "Fizz\n",
      "22\n",
      "23\n",
      "Fizz\n",
      "Buzz\n",
      "26\n",
      "Fizz\n",
      "28\n",
      "29\n",
      "FizzBuzz\n",
      "31\n",
      "32\n",
      "Fizz\n",
      "34\n",
      "Buzz\n"
     ]
    }
   ],
   "source": [
    "#Q4.\n",
    "\n",
    "for num in range(1, 36):\n",
    "    string = \"\"\n",
    "    if num % 3 == 0:\n",
    "        string = string + \"Fizz\"\n",
    "    if num % 5 == 0:\n",
    "        string = string + \"Buzz\"\n",
    "    if num % 5 != 0 and num % 3 != 0:\n",
    "        string = string + str(num)\n",
    "    print(string)"
   ]
  },
  {
   "cell_type": "code",
   "execution_count": 23,
   "metadata": {},
   "outputs": [
    {
     "name": "stdout",
     "output_type": "stream",
     "text": [
      "three three was a race horse, two two was three too.\n"
     ]
    }
   ],
   "source": [
    "txt = \"one one was a race horse, two two was one too.\"\n",
    "\n",
    "x = txt.replace(\"one\", \"three\")\n",
    "\n",
    "print(x)"
   ]
  },
  {
   "cell_type": "code",
   "execution_count": 25,
   "metadata": {},
   "outputs": [
    {
     "name": "stdout",
     "output_type": "stream",
     "text": [
      "The Fox and dog.\n"
     ]
    }
   ],
   "source": [
    "# Q5\n",
    "text = 'The Fox and fox.'\n",
    " \n",
    "newText = text.replace(\"fox\", \"dog\")\n",
    "print(newText)"
   ]
  },
  {
   "cell_type": "code",
   "execution_count": 33,
   "metadata": {},
   "outputs": [
    {
     "name": "stdout",
     "output_type": "stream",
     "text": [
      "21, 64, 32, 16, 8, 4, 2, 1\n"
     ]
    }
   ],
   "source": [
    "#Q6.\n",
    "\n",
    "def Collatz(n):\n",
    " \n",
    "    while n != 1: \n",
    "        print(n, end = ', ') \n",
    " \n",
    "        if n & 1: \n",
    "            n = 3 * n + 1\n",
    " \n",
    "        else: \n",
    "            n = n // 2\n",
    "    print(n)\n",
    "\n",
    "Collatz(21)"
   ]
  },
  {
   "cell_type": "code",
   "execution_count": 37,
   "metadata": {},
   "outputs": [
    {
     "data": {
      "text/plain": [
       "[0, 1, 1, 2, 3, 5, 8, 13, 21, 34]"
      ]
     },
     "execution_count": 37,
     "metadata": {},
     "output_type": "execute_result"
    }
   ],
   "source": [
    "#Q7.\n",
    "\n",
    "def fibonacci_of(n):\n",
    "     if n in {0,1}:  # Base case\n",
    "        return n\n",
    "     return fibonacci_of(n - 1) + fibonacci_of(n - 2)\n",
    "\n",
    "[fibonacci_of(n) for n in range(10)]"
   ]
  }
 ],
 "metadata": {
  "kernelspec": {
   "display_name": "Python 3",
   "language": "python",
   "name": "python3"
  },
  "language_info": {
   "codemirror_mode": {
    "name": "ipython",
    "version": 3
   },
   "file_extension": ".py",
   "mimetype": "text/x-python",
   "name": "python",
   "nbconvert_exporter": "python",
   "pygments_lexer": "ipython3",
   "version": "3.11.4"
  },
  "orig_nbformat": 4
 },
 "nbformat": 4,
 "nbformat_minor": 2
}
